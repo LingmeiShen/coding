This document is used to take a note when I self-teach python as a coding language. It is divided into several parts and each part start with a brief summary, then some common used commands along with examples. These contents will be updated once I got new ideas.

## Part one: Basic Data type
