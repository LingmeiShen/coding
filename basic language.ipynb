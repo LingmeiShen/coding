#This document is used to take a note when I self-teach python as a coding language. It is divided into several parts and each part start with a brief summary, then some common used commands along with examples. These contents will be updated once I got new ideas.

## Part one: Basic Data type


Python Basics¶
This is a collection of exercises that I wrote as a refresher of key Python features.
Built-in datatypes and variable binding
Python uses dynamic typing. In short, this means that the type of data in a variable is not explicitly identified in a program, like it is in C++ or Java.
In [4]:
x=2
print x, type(x)
print type(1.0)
x=print
print type(x)
  File "<ipython-input-4-b1591b3e2456>", line 4
    x=print
          ^
SyntaxError: invalid syntax
ints and floats
In [10]:
print '7/2 is', 7.00/2
print '2**3 is', type(2**3)
print '2**3.0 is', type(2**3.0)
print 5%2
print 6/4, 'plus', 6%4
7/2 is 3.5
2**3 is <type 'int'>
2**3.0 is <type 'float'>
1
1 plus 2
boolean
In [15]:
# a is True
# b is False
# a and b is False
# a or b is True
a = True
b = not a
print 'a is', a
print 'b is', b
print 'a and b is', a and b
a is True
b is False
a and b is False
Strings
In [18]:
# Hello World
# ['Hello', 'World']
# Hello_World
a='Hello'
b='World'
c= a+" "+b
print c
words=c.split()
print words
print"_".join(words)
Hello World
['Hello', 'World']
Hello_World
Lists
In [25]:
print range(0,4)
y=range(1,6,2)
print y
print 'y*2 is', y*2
print [0]*10
[0, 1, 2, 3]
[1, 3, 5]
y*2 is [1, 3, 5, 1, 3, 5]
[0, 0, 0, 0, 0, 0, 0, 0, 0, 0]
In [29]:
#List comprehension
print [x*x for x in range(0,10)]
print [(x,x*x) for x in range(0,11)]
[0, 1, 4, 9, 16, 25, 36, 49, 64, 81]
[(0, 0), (1, 1), (2, 4), (3, 9), (4, 16), (5, 25), (6, 36), (7, 49), (8, 64), (9, 81), (10, 100)]
Looping (for, while, reduce)
for and while are typically used much more often than reduce, of course, at the sum function example at the end shows, it is better to use a library call than to reinvent the wheel.
In [4]:
sum_1 =0
for n in range(1,101):
    sum_1 += n
print sum_1
5050
In [5]:
#while
#sum integers from 1 to 100
sum_2=0
n=1
while n<101:
    sum_2 +=n
    n+=1
print sum_2
5050
In [6]:
sum_3=0
n=1
while n<101:
    sum_3 +=n
    n+=1
print sum_3
5050
In [34]:
#reduce
#sum integers from 1 to 100
print reduce(lambda n, sum_:n+sum_,range(1,101))
5050
In [1]:
#Python's sum
print sum(range(1,101))
5050
In [15]:
#preferred way to sum floating point (faster)
print math.fsum(range(1,101))
5050.0
Conditional execution (if)
In [39]:
import random as rnd
r=rnd.random()
if r<0.25:
    print t, 'is in the bottom quartile'
elif r<0.5:
    print r,'is below the median'
else:
    print r, 'is above the median'
0.867670700474 is above the median
Dictionaries
In [2]:
prices ={'AMZN':752.6,'AAPL':104.34,'FB':125}
print prices['AMZN']
752.6
In [3]:
#distribution of characters in a string
s = "The quick brown fox jumps over the lazy dog."
d={c:0 for c in s}
print d 
for c in s:
    d[c]+=1
print d
{' ': 0, '.': 0, 'T': 0, 'a': 0, 'c': 0, 'b': 0, 'e': 0, 'd': 0, 'g': 0, 'f': 0, 'i': 0, 'h': 0, 'k': 0, 'j': 0, 'm': 0, 'l': 0, 'o': 0, 'n': 0, 'q': 0, 'p': 0, 's': 0, 'r': 0, 'u': 0, 't': 0, 'w': 0, 'v': 0, 'y': 0, 'x': 0, 'z': 0}
{' ': 8, '.': 1, 'T': 1, 'a': 1, 'c': 1, 'b': 1, 'e': 3, 'd': 1, 'g': 1, 'f': 1, 'i': 1, 'h': 2, 'k': 1, 'j': 1, 'm': 1, 'l': 1, 'o': 4, 'n': 1, 'q': 1, 'p': 1, 's': 1, 'r': 2, 'u': 2, 't': 1, 'w': 1, 'v': 1, 'y': 1, 'x': 1, 'z': 1}
Functions
In [4]:
def factorial(n):
    if n<2:
        return 1
    return n*factorial(n-1)
print factorial(6)
720
In [3]:
def gcd(a, b):
# write this function...

    c = max(a,b) % min(a,b)
    d = min(a,b) % c
    while d>0:
        c=d
        d= min(a,b)%c
    return c
    
print gcd(144, 1024)
16
In [8]:
a=10
b=5
print max(a,b)
10
In [ ]:
