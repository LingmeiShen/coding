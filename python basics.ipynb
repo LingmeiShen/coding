{
 "cells": [
  {
   "cell_type": "markdown",
   "metadata": {},
   "source": [
    "# Python Basics\n",
    "\n",
    "This document is used to take a note when I self-teach python as a coding language. It is divided into several parts and each part start with a brief summary, then some common used commands along with examples. These contents will be updated once I got new ideas.\n",
    "\n",
    "## I: Basic Data type\n",
    "\n",
    "Python uses [dynamic typing](http://stackoverflow.com/questions/11328920/is-python-strongly-typed). In short, this means that the type of data in a variable is not explicitly identified in a program, like it is in C++ or Java. "
   ]
  },
  {
   "cell_type": "markdown",
   "metadata": {},
   "source": [
    "### ints and floats\n",
    "For calculation, if objects are both int, the result will also be int, which can make some mistakes sometimes."
   ]
  },
  {
   "cell_type": "code",
   "execution_count": 5,
   "metadata": {
    "collapsed": false,
    "scrolled": true
   },
   "outputs": [
    {
     "name": "stdout",
     "output_type": "stream",
     "text": [
      "7/2 is 3.5\n",
      "7.0/2 is 3.5\n",
      "1 2 (2, 1)\n",
      "2**3 is 8 <type 'int'>\n",
      "2**3.0 is 8.0 <type 'float'>\n"
     ]
    }
   ],
   "source": [
    "# division\n",
    "# \"%\" obtains the remainder of the division, \"//\" gets the quotient.\n",
    "# both can be obtained in a tuple by \"divmod\"\n",
    "\n",
    "print '7/2 is', 7/2 \n",
    "print '7.0/2 is', 7.0/2\n",
    "print 5%2, 5//2, divmod(5,2)\n",
    "\n",
    "# power\n",
    "# can also be obtained by power(2,3)\n",
    "print '2**3 is', 2**3, type(2**3) \n",
    "print '2**3.0 is', 2**3.0, type(2**3.0)"
   ]
  },
  {
   "cell_type": "markdown",
   "metadata": {},
   "source": [
    "### boolean"
   ]
  },
  {
   "cell_type": "code",
   "execution_count": 8,
   "metadata": {
    "collapsed": false,
    "scrolled": true
   },
   "outputs": [
    {
     "name": "stdout",
     "output_type": "stream",
     "text": [
      "a is True\n",
      "b is False\n",
      "a and b is False\n",
      "False\n",
      "True\n",
      "False\n"
     ]
    }
   ],
   "source": [
    "# a is True\n",
    "# b is False\n",
    "# a and b is False\n",
    "# a or b is True\n",
    "a = True\n",
    "b = not a\n",
    "print 'a is', a\n",
    "print 'b is', b\n",
    "print 'a and b is', a and b\n",
    "\n",
    "# can be used to simplify the codes in if\n",
    "c=None\n",
    "print bool(c)\n",
    "\n",
    "# if there are multiple requirement\n",
    "print any([a,b])\n",
    "print all([a,b])"
   ]
  },
  {
   "cell_type": "markdown",
   "metadata": {},
   "source": [
    "### Strings"
   ]
  },
  {
   "cell_type": "code",
   "execution_count": 12,
   "metadata": {
    "collapsed": false,
    "scrolled": true
   },
   "outputs": [
    {
     "name": "stdout",
     "output_type": "stream",
     "text": [
      "Hello World Hello World\n",
      "['Hello', 'World']\n",
      "llo\n"
     ]
    }
   ],
   "source": [
    "# string can be generate as\n",
    "g=\"\"\n",
    "a='Hello'\n",
    "b='World'\n",
    "\n",
    "# can be added by \"+\", join function(can be used only for list of str)\n",
    "c= a+\" \"+b\n",
    "d= \" \".join([a,b])\n",
    "print c, d\n",
    "\n",
    "# can be split by split(sep), element in the string can be accessed by []\n",
    "print c.split()\n",
    "print c[2:5]"
   ]
  },
  {
   "cell_type": "markdown",
   "metadata": {},
   "source": [
    "### Lists\n",
    "List is immutable, while tuple, which looks like list, is not."
   ]
  },
  {
   "cell_type": "code",
   "execution_count": 25,
   "metadata": {
    "collapsed": false,
    "scrolled": true
   },
   "outputs": [
    {
     "name": "stdout",
     "output_type": "stream",
     "text": [
      "[0, 1, 2, 3]\n",
      "[1, 3, 5]\n",
      "y*2 is [1, 3, 5, 1, 3, 5]\n",
      "[0, 0, 0, 0, 0, 0, 0, 0, 0, 0]\n"
     ]
    }
   ],
   "source": [
    "print range(0,4)\n",
    "y=range(1,6,2)\n",
    "print y\n",
    "print 'y*2 is', y*2\n",
    "print [0]*10"
   ]
  },
  {
   "cell_type": "code",
   "execution_count": 16,
   "metadata": {
    "collapsed": false
   },
   "outputs": [
    {
     "name": "stdout",
     "output_type": "stream",
     "text": [
      "[2, 3, 1, 1]\n",
      "[2, 3, 1, 1, 9, 10]\n",
      "[3, 1, 1, 9, 10]\n",
      "[3, 1, 1, 9, 10, 1]\n",
      "Error Code is 2 is not in list\n",
      "[3, 1, 1, 9, 10]\n",
      "[1, 1, 3, 9, 10]\n",
      "[10, 9, 3, 1, 1]\n"
     ]
    }
   ],
   "source": [
    "# for a list, we can perform following command:\n",
    "a=[]\n",
    "a=list()            #two ways to initiate a list\n",
    "a=[2,3,1]\n",
    "a.insert(2,1)       #insert(i,e): insert single element e at position i\n",
    "print a\n",
    "a.extend([9,10])    # merge other list\n",
    "print a\n",
    "a.remove(2)         #remove(e): remove the first occurence of e\n",
    "print a\n",
    "a.append(1)         #insert at the end of the list\n",
    "print a\n",
    "a.count(2)          #count the occurence of element\n",
    "try:\n",
    "    a.index(2)      #return the first occurence of element, if not, error\n",
    "except ValueError as e:\n",
    "    print \"Error Code is\",e\n",
    "a.pop()             #pop the last element in the list\n",
    "print a\n",
    "a.sort()\n",
    "print a\n",
    "a.reverse()\n",
    "print a"
   ]
  },
  {
   "cell_type": "code",
   "execution_count": 29,
   "metadata": {
    "collapsed": false,
    "scrolled": true
   },
   "outputs": [
    {
     "name": "stdout",
     "output_type": "stream",
     "text": [
      "[0, 1, 4, 9, 16, 25, 36, 49, 64, 81]\n",
      "[(0, 0), (1, 1), (2, 4), (3, 9), (4, 16), (5, 25), (6, 36), (7, 49), (8, 64), (9, 81), (10, 100)]\n"
     ]
    }
   ],
   "source": [
    "#List comprehension\n",
    "print [x*x for x in range(0,10)]\n",
    "print [(x,x*x) for x in range(0,11)]\n"
   ]
  },
  {
   "cell_type": "markdown",
   "metadata": {},
   "source": [
    "### Dictionaries\n",
    "A data type store values in pairs. Dict is mutable, while the key of dict isn't. Thus, we can use tuple as key."
   ]
  },
  {
   "cell_type": "code",
   "execution_count": 17,
   "metadata": {
    "collapsed": false,
    "scrolled": true
   },
   "outputs": [
    {
     "name": "stdout",
     "output_type": "stream",
     "text": [
      "752.6\n",
      "{'FB': 125, 'AMZN': 752.6, 'AAPL': 104.34, 'MX': 234}\n"
     ]
    }
   ],
   "source": [
    "prices ={'AMZN':752.6,'AAPL':104.34,'FB':125}    # initiate the dict with \"{}\"\n",
    "print prices['AMZN']                             # get the value by \"[]\"\n",
    "prices['MX']=234                                 # add to dict\n",
    "print prices"
   ]
  },
  {
   "cell_type": "code",
   "execution_count": 3,
   "metadata": {
    "collapsed": false,
    "scrolled": true
   },
   "outputs": [
    {
     "name": "stdout",
     "output_type": "stream",
     "text": [
      "{' ': 0, '.': 0, 'T': 0, 'a': 0, 'c': 0, 'b': 0, 'e': 0, 'd': 0, 'g': 0, 'f': 0, 'i': 0, 'h': 0, 'k': 0, 'j': 0, 'm': 0, 'l': 0, 'o': 0, 'n': 0, 'q': 0, 'p': 0, 's': 0, 'r': 0, 'u': 0, 't': 0, 'w': 0, 'v': 0, 'y': 0, 'x': 0, 'z': 0}\n",
      "{' ': 8, '.': 1, 'T': 1, 'a': 1, 'c': 1, 'b': 1, 'e': 3, 'd': 1, 'g': 1, 'f': 1, 'i': 1, 'h': 2, 'k': 1, 'j': 1, 'm': 1, 'l': 1, 'o': 4, 'n': 1, 'q': 1, 'p': 1, 's': 1, 'r': 2, 'u': 2, 't': 1, 'w': 1, 'v': 1, 'y': 1, 'x': 1, 'z': 1}\n"
     ]
    }
   ],
   "source": [
    "#distribution of characters in a string\n",
    "s = \"The quick brown fox jumps over the lazy dog.\"\n",
    "d={c:0 for c in s}\n",
    "print d \n",
    "for c in s:\n",
    "    d[c]+=1\n",
    "print d"
   ]
  },
  {
   "cell_type": "markdown",
   "metadata": {},
   "source": [
    "## Looping (for, while, reduce)\n",
    "for and while are typically used much more often than <code>reduce<code>, of course, at the <code>sum<code> function example at the end shows, it is better to use a library call than to reinvent the wheel."
   ]
  },
  {
   "cell_type": "code",
   "execution_count": 19,
   "metadata": {
    "collapsed": false,
    "scrolled": true
   },
   "outputs": [
    {
     "name": "stdout",
     "output_type": "stream",
     "text": [
      "5050\n"
     ]
    }
   ],
   "source": [
    "#for: sum integers from 1 to 100\n",
    "sum_1=0\n",
    "for n in range(101):\n",
    "    sum_1 +=n\n",
    "print sum_1"
   ]
  },
  {
   "cell_type": "code",
   "execution_count": 5,
   "metadata": {
    "collapsed": false,
    "scrolled": true
   },
   "outputs": [
    {
     "name": "stdout",
     "output_type": "stream",
     "text": [
      "5050\n"
     ]
    }
   ],
   "source": [
    "#while\n",
    "#sum integers from 1 to 100\n",
    "sum_2=0\n",
    "n=1\n",
    "while n<101:\n",
    "    sum_2 +=n\n",
    "    n+=1\n",
    "print sum_2"
   ]
  },
  {
   "cell_type": "code",
   "execution_count": 20,
   "metadata": {
    "collapsed": false,
    "scrolled": true
   },
   "outputs": [
    {
     "name": "stdout",
     "output_type": "stream",
     "text": [
      "5050\n"
     ]
    }
   ],
   "source": [
    "#reduce\n",
    "#sum integers from 1 to 100\n",
    "print reduce(lambda n, sum_3:n+sum_3,range(1,101))"
   ]
  },
  {
   "cell_type": "code",
   "execution_count": 1,
   "metadata": {
    "collapsed": false,
    "scrolled": true
   },
   "outputs": [
    {
     "name": "stdout",
     "output_type": "stream",
     "text": [
      "5050\n"
     ]
    }
   ],
   "source": [
    "#Python's sum\n",
    "print sum(range(1,101))"
   ]
  },
  {
   "cell_type": "code",
   "execution_count": 22,
   "metadata": {
    "collapsed": false,
    "scrolled": true
   },
   "outputs": [
    {
     "name": "stdout",
     "output_type": "stream",
     "text": [
      "5050.0\n"
     ]
    }
   ],
   "source": [
    "#preferred way to sum floating point (faster)\n",
    "import math\n",
    "print math.fsum(range(1,101))"
   ]
  },
  {
   "cell_type": "markdown",
   "metadata": {},
   "source": [
    "### Conditional execution (if)\n"
   ]
  },
  {
   "cell_type": "code",
   "execution_count": 23,
   "metadata": {
    "collapsed": false,
    "scrolled": true
   },
   "outputs": [
    {
     "name": "stdout",
     "output_type": "stream",
     "text": [
      "0.859573371614 is above the median\n"
     ]
    }
   ],
   "source": [
    "import random as rnd\n",
    "r=rnd.random()\n",
    "if r<0.25:\n",
    "    print t, 'is in the bottom quartile'\n",
    "elif r<0.5:\n",
    "    print r,'is below the median'\n",
    "else:\n",
    "    print r, 'is above the median'"
   ]
  },
  {
   "cell_type": "markdown",
   "metadata": {},
   "source": [
    "## Functions"
   ]
  },
  {
   "cell_type": "code",
   "execution_count": 4,
   "metadata": {
    "collapsed": false,
    "scrolled": true
   },
   "outputs": [
    {
     "name": "stdout",
     "output_type": "stream",
     "text": [
      "720\n"
     ]
    }
   ],
   "source": [
    "def factorial(n):\n",
    "    if n<2:\n",
    "        return 1\n",
    "    return n*factorial(n-1)\n",
    "print factorial(6)"
   ]
  },
  {
   "cell_type": "code",
   "execution_count": 3,
   "metadata": {
    "collapsed": false,
    "scrolled": true
   },
   "outputs": [
    {
     "name": "stdout",
     "output_type": "stream",
     "text": [
      "16\n"
     ]
    }
   ],
   "source": [
    "def gcd(a, b):\n",
    "# greatest common dividor\n",
    "\n",
    "    c = max(a,b) % min(a,b)\n",
    "    d = min(a,b) % c\n",
    "    while d>0:\n",
    "        c=d\n",
    "        d= min(a,b)%c\n",
    "    return c\n",
    "    \n",
    "print gcd(144, 1024)"
   ]
  }
 ],
 "metadata": {
  "kernelspec": {
   "display_name": "Python [Root]",
   "language": "python",
   "name": "Python [Root]"
  },
  "language_info": {
   "codemirror_mode": {
    "name": "ipython",
    "version": 2
   },
   "file_extension": ".py",
   "mimetype": "text/x-python",
   "name": "python",
   "nbconvert_exporter": "python",
   "pygments_lexer": "ipython2",
   "version": "2.7.12"
  }
 },
 "nbformat": 4,
 "nbformat_minor": 0
}
